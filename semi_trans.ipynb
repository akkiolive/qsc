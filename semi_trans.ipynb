{
 "cells": [
  {
   "cell_type": "code",
   "execution_count": 1,
   "metadata": {},
   "outputs": [
    {
     "ename": "SystemExit",
     "evalue": "0",
     "output_type": "error",
     "traceback": [
      "An exception has occurred, use %tb to see the full traceback.\n",
      "\u001b[1;31mSystemExit\u001b[0m\u001b[1;31m:\u001b[0m 0\n"
     ]
    },
    {
     "name": "stderr",
     "output_type": "stream",
     "text": [
      "D:\\Python\\Python39\\lib\\site-packages\\IPython\\core\\interactiveshell.py:3426: UserWarning: To exit: use 'exit', 'quit', or Ctrl-D.\n",
      "  warn(\"To exit: use 'exit', 'quit', or Ctrl-D.\", stacklevel=1)\n"
     ]
    }
   ],
   "source": [
    "import sys\n",
    "\n",
    "from PyQt5.QtCore import *\n",
    "from PyQt5.QtGui import *\n",
    "from PyQt5.QtWidgets import *\n",
    "\n",
    "class CustomWindow(QMainWindow):\n",
    "    def paintEvent(self, event=None):\n",
    "        painter = QPainter(self)\n",
    "\n",
    "        painter.setOpacity(0.7)\n",
    "        painter.setBrush(Qt.white)\n",
    "        painter.setPen(QPen(Qt.white))   \n",
    "        painter.drawRect(self.rect())\n",
    "\n",
    "\n",
    "app = QApplication(sys.argv)\n",
    "\n",
    "# Create the main window\n",
    "window = CustomWindow()\n",
    "\n",
    "window.setWindowFlags(Qt.FramelessWindowHint)\n",
    "window.setAttribute(Qt.WA_NoSystemBackground, True)\n",
    "window.setAttribute(Qt.WA_TranslucentBackground, True)\n",
    "\n",
    "# Create the button\n",
    "pushButton = QPushButton(window)\n",
    "pushButton.setGeometry(QRect(240, 190, 90, 31))\n",
    "pushButton.setText(\"Finished\")\n",
    "pushButton.clicked.connect(app.quit)\n",
    "\n",
    "# Center the button\n",
    "qr = pushButton.frameGeometry()\n",
    "cp = QDesktopWidget().availableGeometry().center()\n",
    "qr.moveCenter(cp)\n",
    "pushButton.move(qr.topLeft())\n",
    "\n",
    "# Run the application\n",
    "#window.showFullScreen()\n",
    "sys.exit(app.exec_())\n",
    "\n"
   ]
  }
 ],
 "metadata": {
  "interpreter": {
   "hash": "fcf1d46d271c46101d6967829d4a5f475342a2ce08e4944f989fbcdc9bb23690"
  },
  "kernelspec": {
   "display_name": "Python 3.9.5 64-bit",
   "language": "python",
   "name": "python3"
  },
  "language_info": {
   "codemirror_mode": {
    "name": "ipython",
    "version": 3
   },
   "file_extension": ".py",
   "mimetype": "text/x-python",
   "name": "python",
   "nbconvert_exporter": "python",
   "pygments_lexer": "ipython3",
   "version": "3.9.5"
  },
  "orig_nbformat": 4
 },
 "nbformat": 4,
 "nbformat_minor": 2
}
