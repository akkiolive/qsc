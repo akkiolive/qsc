{
 "cells": [
  {
   "cell_type": "code",
   "execution_count": 30,
   "metadata": {},
   "outputs": [
    {
     "name": "stdout",
     "output_type": "stream",
     "text": [
      "<class 'PyQt5.QtCore.pyqtSignal'>\n",
      "<unbound PYQT_SIGNAL clicked(bool)>\n",
      "hoge\n"
     ]
    }
   ],
   "source": [
    "from PyQt5.QtWidgets import QPushButton\n",
    "from PyQt5 import QtCore\n",
    "\n",
    "QPushButton\n",
    "print(QPushButton.clicked.__class__)\n",
    "print(QPushButton.clicked)\n",
    "#print(QPushButton.__dict__)\n",
    "\n",
    "\n",
    "\n",
    "class O(QtCore.QObject):\n",
    "    signal = QtCore.pyqtSignal()\n",
    "    \n",
    "    def __init__(self):\n",
    "        QtCore.QObject.__init__(self)\n",
    "\n",
    "\n",
    "\n",
    "    def go(self):\n",
    "        self.signal.emit()\n",
    "\n",
    "o = O()\n",
    "def hoge():\n",
    "    print(\"hoge\")\n",
    "o.signal.connect(hoge)\n",
    "\n",
    "o.go()\n",
    "\n"
   ]
  }
 ],
 "metadata": {
  "interpreter": {
   "hash": "fcf1d46d271c46101d6967829d4a5f475342a2ce08e4944f989fbcdc9bb23690"
  },
  "kernelspec": {
   "display_name": "Python 3.9.5 64-bit",
   "language": "python",
   "name": "python3"
  },
  "language_info": {
   "codemirror_mode": {
    "name": "ipython",
    "version": 3
   },
   "file_extension": ".py",
   "mimetype": "text/x-python",
   "name": "python",
   "nbconvert_exporter": "python",
   "pygments_lexer": "ipython3",
   "version": "3.9.5"
  },
  "orig_nbformat": 4
 },
 "nbformat": 4,
 "nbformat_minor": 2
}
